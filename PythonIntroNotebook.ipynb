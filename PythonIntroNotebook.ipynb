{
 "cells": [
  {
   "cell_type": "markdown",
   "metadata": {},
   "source": "# Introduction to Python <a name=\"top\"></a>\n\nWelcome to the Introduction to Python briefing.\n\nTopics:\n0. [General Python Info](#generalInfo)\n1. [Printing](#printing)\n2. [Variables](#variables)\n3. [Loops](#loops)\n4. [Functions](#functions)\n5. [Data Reading](#read)\n6. [Data Manipulation](#manip)\n7. [Data Output](#write)\n8. [Scipy/Numpy](#extra)"
  },
  {
   "cell_type": "markdown",
   "metadata": {},
   "source": "## Installation.\n\nWe need to install Python and Visual Studio Code for this demo. Getting the jupyter notebook and git are recommended but not needed. \n\n### Required:\n\n#### 1) Clone this repository: \nClick on the big green button and select \"Download as Zip\". This will download all the files you need for this class.\n\n\n#### 2) Python\nTo install Python, you will need to visit this website and download the version that matches your operating system. You can find the installer at the bottom of the page.\n<a href=\"https://www.python.org/downloads/release/python-382/\">https://www.python.org/downloads/release/python-382/</a>\n\n\nOnce downloaded, double click on \"Install Certificates\". This will open a termnial window but dont worry.\n\n\n#### 3) Visual Studio Code\nWe will be writing our command line program in Visual Studio Code. This is a free IDE that allows programming in a variety of languages.\n<a href=\"https://code.visualstudio.com\">https://code.visualstudio.com</a>\nhttps://code.visualstudio.com\n\nOnce you have installed Visual Studio, when you open it up you will want to click on the box like icon on the left hand side of the window. This will open up the extensions that Visual Studio has installed. We want to install the Python linter. This will be labeled \"Python\" and is published by Microsoft. Just click the green install button and you will be good to go. A linter is a feature that is basically like a spell checker for programming. It will tell you if you have made some sort of mistake that will cause the program to fail to run. \n\nIf you have any issues with this step we will go over it at the start of class so dont worry too much.\n\n\n### Optional:\n\nThe following two programs are useful in a general sense but we wont be working with them directly for this class. If you are interested, feel free to pick these up.\n\n#### 1) Jupyter Notebook\nJupyter Notebook is a program that lets you format your code in a way that makes it more accessable for non-programmers to understand. You can embed runable python code with accompanying text in order to make a presentable product.\n\nTo install you need to open terminal and run:\n\n```pip3 install jupyter```\n\nTo start the notebook run:\n\n```jupyter notebook```\n\n#### 2) Git\nGit is basically google docs for programmers. If you are planning on working collaberatively on just about any programming project, you will be coordinating work through git. It isnt too difficult to learn the basics and is very useful for version control.\n\nhttps://git-scm.com/book/en/v2/Getting-Started-Installing-Git\n\nYou can clone from my repository for this project at:\n\nhttps://github.com/cthummel/IntroductionToPython\n\nThis can be done on the command line with:\n\n```git clone https://github.com/cthummel/IntroductionToPython```\n\nor by selecting the big green button and downloading the zip."
  },
  {
   "cell_type": "markdown",
   "metadata": {},
   "source": " ## 0. General Python Info <a name=\"generalInfo\"></a>\n \n First we will load in some packages that will be useful later on. Typically you include all of your package imports at the top of the file. Here we are installing numpy which is a package that has many useful data structures and commands."
  },
  {
   "cell_type": "code",
   "execution_count": 2,
   "metadata": {},
   "outputs": [
    {
     "name": "stdout",
     "output_type": "stream",
     "text": "Requirement already satisfied: numpy in /usr/local/lib/python3.7/site-packages (1.15.1)\r\nRequirement already satisfied: scipy in /usr/local/lib/python3.7/site-packages (1.3.0)\r\n"
    }
   ],
   "source": "!python3 -m pip install numpy scipy\n\nimport numpy as np\n#import scipy\nimport sys, math, random"
  },
  {
   "cell_type": "markdown",
   "metadata": {},
   "source": "Next lets cover commenting. Comments are easy in python. Any line with # will comment out all info after the # until the next line."
  },
  {
   "cell_type": "code",
   "execution_count": 3,
   "metadata": {},
   "outputs": [
    {
     "name": "stdout",
     "output_type": "stream",
     "text": "After this, the following bits have been commented out.\n"
    }
   ],
   "source": "#This line has been commented out.\nprint(\"After this, the following bits have been commented out.\") #See you dont get the rest of this text.\n#or this.\n#or even this."
  },
  {
   "cell_type": "markdown",
   "metadata": {},
   "source": "Comments are useful for your own bookkeeping about what functions or variables do within your program.\n\nEach line in python does not require an ending semi-colon. That said, whitespace is fairly important. Each new line is considered to be a new command so you cannot have runon commands. Furthermore, as we will see later with if-then, for, or while commands, the spacing of the following lines of code is important."
  },
  {
   "cell_type": "code",
   "execution_count": null,
   "metadata": {},
   "outputs": [],
   "source": "if 2 + 2 == 4:\n    print(\"Santa is real.\")\nelse:\n    print(\"I cant believe math doesnt work.\")\n    \nfor word in [\"This\", \"is\", \"an\", \"array\", \"of\", \"words.\"]:\n    print(word)"
  },
  {
   "cell_type": "markdown",
   "metadata": {},
   "source": "## 1. Printing: <a name=\"printing\"></a>\nTo start with lets do the classic \"Hello World\" example. Below is a code block that is written in python and if you select the cell and click \"run\" at the top or press Shift+Enter, it will run the code.\n"
  },
  {
   "cell_type": "code",
   "execution_count": null,
   "metadata": {},
   "outputs": [],
   "source": "print(\"Hello World\")"
  },
  {
   "cell_type": "markdown",
   "metadata": {},
   "source": "The print() command will output everything within it to the console. This is an easy way to check the contents of variables or keep track of where you are in your program. Lots of print commands are kinda bad practice but they are useful as an initial debugging technique."
  },
  {
   "cell_type": "code",
   "execution_count": null,
   "metadata": {},
   "outputs": [],
   "source": "print(3)\nprint(\"This works?\")\nprint(\"You\", \"can\", \"have\", \"multiple\", \"items\")\nprint([1,2,3,4])\n\n#Feel free to add your own print commands below.\n\n\n"
  },
  {
   "cell_type": "markdown",
   "metadata": {},
   "source": "## 2. Variables: <a name=\"variables\"></a>\n\nTypically we wont be handling hard coded values. Instead we will want to use variables to hold data that we assign dynammically.\n\nVariables are pretty easy to handle in python. Since it is a scripting language, there is no type casting until runtime. That means when you name a variable, you dont need to tell the program what type of data it is. The program will try to figure it out itself."
  },
  {
   "cell_type": "code",
   "execution_count": null,
   "metadata": {},
   "outputs": [],
   "source": "variables = 3\nare = 4.0\neasy = \"This is more than one word...\"\nbutPleaseUseGoodNamingSchemes = 'a'\n\na = 10\nb = 15\nc = a * b\n\nd, e, f = 20, 25, 30\n\nprint(c, math.log(c), easy, butPleaseUseGoodNamingSchemes)\nprint(d, e, f, d + e)\n\n\n\n#As a quick side note, ^ is not the same as \"raised to the power of\"\nprint(a, a^2, a * a, a**2)"
  },
  {
   "cell_type": "markdown",
   "metadata": {},
   "source": "## 3. Loops: <a name=\"loops\"></a>\n\nLots of the work that you will be doing in python will contain some sort of repetative process. For example, if you wanted to code a way of calculating the mean of a data set, you would need to sum all the values and then divide by the total number. To do that we would want to loop through the data set."
  },
  {
   "cell_type": "code",
   "execution_count": null,
   "metadata": {},
   "outputs": [],
   "source": "example_data_set = [29, 63, 74, 13, 44, 18, 53, 8, 68, 92]\n\nfor x in example_data_set:\n    print(x)"
  },
  {
   "cell_type": "code",
   "execution_count": null,
   "metadata": {},
   "outputs": [],
   "source": "i = 0\nwhile i < 10:\n    #We can use if statements if we want to do different things within the loop.\n    if i == 9:\n        print(\"Yikes we are at 9\")\n    elif i == 5:\n        i += 1\n        continue\n    else:\n        print(i)\n        \n    #Always occurs.\n    i += 1\n    "
  },
  {
   "cell_type": "code",
   "execution_count": null,
   "metadata": {},
   "outputs": [],
   "source": "summation = 0\nfor x in example_data_set:\n    summation += x\n    \n#To check our work lets divide the sum by the length of the vector. (To avoid integer division we multiply by 1.0)\nprint(\"Our work:\", summation * 1.0 / len(example_data_set))\n\n#We can check our work using the numpy mean function\nprint(\"Numpy results:\", np.mean(example_data_set))\n\n"
  },
  {
   "cell_type": "markdown",
   "metadata": {},
   "source": "The most important thing to keep in mind with loops is the looping condition. You need to make sure that it fits your needs as well as having a clear end point. A poorly made loop can run infinitely or break before you want it to."
  },
  {
   "cell_type": "markdown",
   "metadata": {},
   "source": "## 4. Functions <a name=\"functions\"></a>\n\nOften times we will want to run the same bit of code multiple times in multiple places. We can write our own functions in order to do this. The following is a simple function that takes no input and just prints a statement."
  },
  {
   "cell_type": "code",
   "execution_count": null,
   "metadata": {},
   "outputs": [],
   "source": "def sayHello():\n    print(\"Dont tell me what to do.\")\n    \nsayHello()"
  },
  {
   "cell_type": "markdown",
   "metadata": {},
   "source": "In general functions will take parameters and may or may not return objects/values to the caller. Below are some examples."
  },
  {
   "cell_type": "code",
   "execution_count": null,
   "metadata": {},
   "outputs": [],
   "source": "def mean(data):\n    result = 0\n    for item in data:\n        result += item\n    return result * 1.0 / len(data)\n\ndef raiseToThePower(number, power):\n    return number ** power\n\ndef giveMeLotsOfStuff():\n    return 1, 2, 3, \"Hi\", 5, 6\n\ntemp_array = [1,2,3,4,5,6,7,8,9,10]\nprint(mean(temp_array))\n\n#Parameters by default fill in order but, if you want, you can specify which parameter you want to fill.\nprint(raiseToThePower(5,3))\nprint(raiseToThePower(power=3, number=5))\n\n#You can return multiple items.\na, b, c, d, e, f = giveMeLotsOfStuff()\nprint(\"Multiple Items:\", a, b, c, d, e, f)"
  },
  {
   "cell_type": "markdown",
   "metadata": {},
   "source": "## 5. Data Reading <a name=\"read\"></a>\n\nSo this section will put together what we have been working on so far. We will want to write a function that takes a file path name and returns the data set that is in the file."
  },
  {
   "cell_type": "code",
   "execution_count": null,
   "metadata": {},
   "outputs": [],
   "source": "def readData(filename):\n    header = \"\"\n    dataset = []\n    \n    with open(filename) as f:\n        #Grab the header at the top of file for later.\n        header = np.array(f.readline().strip().split(\",\"))\n        \n        #Get each row from the file.\n        for line in f:\n            row = line.strip().split(\",\")\n            dataset.append(row)\n            \n    return header, np.array(dataset)\n\nheader, dataSet = readData(\"Data/risk_factors_cervical_cancer.csv\")\nprint(dataSet[0])\n\n\nrowCount, colCount = np.shape(dataSet)\nprint(rowCount, colCount)"
  },
  {
   "cell_type": "markdown",
   "metadata": {},
   "source": "### 6. Data Manipulation <a name=\"manip\"></a>\n\nNow that we have read in the data set, lets fix it up a bit. Right now each entry was read in as a string and not a number. Also we need to figure out what to do with the missing data."
  },
  {
   "cell_type": "code",
   "execution_count": null,
   "metadata": {},
   "outputs": [],
   "source": "def convertToFloat(data):\n    for i in range(rowCount):\n        for j in range(colCount):\n            if(data[i,j] == \"?\"):\n                data[i,j] = -1\n    return data.astype(np.float)\n\n    \ndataSet = convertToFloat(dataSet)\nprint(dataSet[0])\nprint(dataSet[0, 0])"
  },
  {
   "cell_type": "markdown",
   "metadata": {},
   "source": "Now lets check that missing data. If we find a bunch of -1s in a column, that means that the column is missing a lot of data."
  },
  {
   "cell_type": "code",
   "execution_count": null,
   "metadata": {},
   "outputs": [],
   "source": "def checkMissingData(data):\n    missingPercentage = np.zeros(colCount)\n    for j in range(colCount):\n        for i in range(rowCount):\n            if(data[i,j] == -1):\n                missingPercentage[j] += 1\n    return missingPercentage * 1.0 / rowCount\n\nprint(np.around(checkMissingData(dataSet), 3))"
  },
  {
   "cell_type": "markdown",
   "metadata": {},
   "source": "So we can see that we have a two columns (26 and 27) with a high percentage of missing values. Lets remove those two columns. Keep in mind we will want to remove the corresponding headers as well or the data will be out of sync."
  },
  {
   "cell_type": "code",
   "execution_count": null,
   "metadata": {},
   "outputs": [],
   "source": "#np.delete(dataset, what to delete, row or column)\ndataSet = np.delete(dataSet, [26, 27], 1)\nheader = np.delete(header, [26, 27], 0)\nprint(dataSet[0])"
  },
  {
   "cell_type": "code",
   "execution_count": null,
   "metadata": {},
   "outputs": [],
   "source": ""
  }
 ],
 "metadata": {
  "kernelspec": {
   "display_name": "Python 3",
   "language": "python",
   "name": "python3"
  },
  "language_info": {
   "codemirror_mode": {
    "name": "ipython",
    "version": 2
   },
   "file_extension": ".py",
   "mimetype": "text/x-python",
   "name": "python",
   "nbconvert_exporter": "python",
   "pygments_lexer": "ipython2",
   "version": "2.7.15"
  }
 },
 "nbformat": 4,
 "nbformat_minor": 4
}
