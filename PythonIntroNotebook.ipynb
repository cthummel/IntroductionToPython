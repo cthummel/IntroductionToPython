{
 "cells": [
  {
   "cell_type": "markdown",
   "metadata": {},
   "source": "# Introduction to Python\n\nWelcome to the Introduction to Python briefing.\n\nTopics:\n0. General Python Info\n1. Printing\n2. Variables\n3. Data Reading\n4. Data Manipulation\n5. Data Output\n6. Scipy/Numpy"
  },
  {
   "cell_type": "markdown",
   "metadata": {},
   "source": "## Installation.\n\nWe need to install Python and Visual Studio Code for this demo. Getting the jupyter notebook and git are recommended but not needed.\n\n### Required) Python\nTo install Python, you will need to visit this website and download the version that matches your operating system.\nhttps://www.python.org/downloads/release/python-382/\n\n### Required) Visual Studio Code\nWe will be writing our command line program in visual studio code. This is a free IDE that allows programming in a variety of languages. \nhttps://code.visualstudio.com\n\nOnce you have installed Visual Studio, when you open it up you will want to click on the box like icon on the left hand side of the window. This will open up the extensions that Visual Studio has installed. We want to install the Python linter. This will be labeled \"Python\" and is published by Microsoft. Just click the green install button and you will be good to go. A linter is a feature that is basically like a spell checker for programming. It will tell you if you have made some sort of mistake that will cause the program to fail to run. \n\n### Optional) Jupyter Notebook\nJupyter Notebook is a program that lets you format your code in a way that makes it more accessable for non-programmers to understand. You can embed runable code with text in order to make a presentable product.\n\nTo install you need to open terminal and run:\n\n```pip3 install jupyter```\n\nTo start the notebook run:\n\n```jupyter notebook```\n\n### Optional) Git\nGit is basically google docs for programmers. If you are planning on working collaberatively on just about any programming project, you will be coordinating work through git. It isnt too difficult to learn the basics and is very useful for version control.\n\nhttps://git-scm.com/book/en/v2/Getting-Started-Installing-Git\n\nYou will need to clone from my repository at:\n\nhttps://github.com/cthummel/IntroductionToPython\n\nThis can be done on the command line with:\n\n```git clone https://github.com/cthummel/IntroductionToPython```\n\nor by selecting the big green button and downloading the zip."
  },
  {
   "cell_type": "markdown",
   "metadata": {},
   "source": " ## 0. General Python Info\n \n First we will load in some packages that will be useful later on. Typically you include all of your package imports at the top of the file. Here we are installing numpy which is a package that has many useful data structures and commands."
  },
  {
   "cell_type": "code",
   "execution_count": null,
   "metadata": {},
   "outputs": [],
   "source": ""
  },
  {
   "cell_type": "code",
   "execution_count": 17,
   "metadata": {},
   "outputs": [
    {
     "name": "stdout",
     "output_type": "stream",
     "text": "Requirement already satisfied: numpy in /usr/local/lib/python3.7/site-packages (1.15.1)\r\n"
    }
   ],
   "source": "!python3 -m pip install numpy\n\nimport numpy as np\nimport math, random"
  },
  {
   "cell_type": "markdown",
   "metadata": {},
   "source": "Next lets cover commenting. Comments are easy in python. Any line with # will comment out all info after the # until the next line."
  },
  {
   "cell_type": "code",
   "execution_count": 18,
   "metadata": {},
   "outputs": [
    {
     "name": "stdout",
     "output_type": "stream",
     "text": "After this, the following bits have been commented out.\n"
    }
   ],
   "source": "#This line has been commented out.\nprint(\"After this, the following bits have been commented out.\") #See you dont get the rest of this text.\n#or this.\n#or even this."
  },
  {
   "cell_type": "markdown",
   "metadata": {},
   "source": "Comments are useful for your own bookkeeping about what functions or variables do within your program.\n\nEach line in python does not require an ending semi-colon. That said, whitespace is fairly important. Each new line is considered to be a new command so you cannot have runon commands. Furthermore, as we will see later with if-then, for, or while commands, the spacing of the following lines of code is important."
  },
  {
   "cell_type": "code",
   "execution_count": 5,
   "metadata": {},
   "outputs": [
    {
     "name": "stdout",
     "output_type": "stream",
     "text": "Santa is real.\nThis\nis\nan\narray\nof\nwords.\n"
    }
   ],
   "source": "if 2 + 2 == 4:\n    print(\"Santa is real.\")\nelse:\n    print(\"I cant believe math doesnt work.\")\n    \nfor word in [\"This\", \"is\", \"an\", \"array\", \"of\", \"words.\"]:\n    print(word)"
  },
  {
   "cell_type": "markdown",
   "metadata": {},
   "source": "## 1. Printing:\nTo start with lets do the classic \"Hello World\" example. Below is a code block that is written in python and if you select the cell and click \"run\" at the top or press Shift+Enter, it will run the code.\n"
  },
  {
   "cell_type": "code",
   "execution_count": 3,
   "metadata": {},
   "outputs": [
    {
     "name": "stdout",
     "output_type": "stream",
     "text": "Hello World\n"
    }
   ],
   "source": "print(\"Hello World\")"
  },
  {
   "cell_type": "markdown",
   "metadata": {},
   "source": "The print() command will output everything within it to the console. This is an easy way to check the contents of variables or keep track of where you are in your program. Lots of print commands are kinda bad practice but they are useful as an initial debugging technique."
  },
  {
   "cell_type": "code",
   "execution_count": 7,
   "metadata": {},
   "outputs": [
    {
     "name": "stdout",
     "output_type": "stream",
     "text": "3\nThis works?\n('You', 'can', 'have', 'multiple', 'items')\n[1, 2, 3, 4]\n"
    }
   ],
   "source": "print(3)\nprint(\"This works?\")\nprint(\"You\", \"can\", \"have\", \"multiple\", \"items\")\nprint([1,2,3,4])\n\n#Feel free to add your own print commands below.\n\n\n"
  },
  {
   "cell_type": "markdown",
   "metadata": {},
   "source": "## 2. Variables\n\nTypically we wont be handling hard coded values. Instead we will want to use variables to hold data that we assign dynammically.\n\nVariables are pretty easy to handle in python. Since it is a scripting language, there is no type casting until runtime. That means when you name a variable, you dont need to tell the program what type of data it is. The program will try to figure it out itself."
  },
  {
   "cell_type": "code",
   "execution_count": 1,
   "metadata": {},
   "outputs": [
    {
     "name": "stdout",
     "output_type": "stream",
     "text": "(150, 'This is more than one word...', 'a')\n"
    }
   ],
   "source": "variables = 3\nare = 4.0\neasy = \"This is more than one word...\"\nbutPleaseUseGoodNamingSchemes = 'a'\n\na = 10\nb = 15\n\nc = a * b\n\nprint(c, easy, butPleaseUseGoodNamingSchemes)\n\n"
  },
  {
   "cell_type": "markdown",
   "metadata": {},
   "source": "## 3. Data Reading\n\nSo this section will be somewhat split. To read in our data set"
  }
 ],
 "metadata": {
  "kernelspec": {
   "display_name": "Python 3",
   "language": "python",
   "name": "python3"
  },
  "language_info": {
   "codemirror_mode": {
    "name": "ipython",
    "version": 2
   },
   "file_extension": ".py",
   "mimetype": "text/x-python",
   "name": "python",
   "nbconvert_exporter": "python",
   "pygments_lexer": "ipython2",
   "version": "2.7.15"
  }
 },
 "nbformat": 4,
 "nbformat_minor": 4
}
