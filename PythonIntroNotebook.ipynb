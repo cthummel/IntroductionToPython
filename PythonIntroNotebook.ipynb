{
 "cells": [
  {
   "cell_type": "markdown",
   "metadata": {},
   "source": "# Introduction to Python\n\nWelcome to the Introduction to Python briefing.\n\nTopics:\n0. General Python Info\n1. Printing\n2. Variables\n3. Data Reading\n4. Data Manipulation\n5. Data Output\n6. Scipy/Numpy"
  },
  {
   "cell_type": "markdown",
   "metadata": {},
   "source": " ## 0. General Python Info\n \n First we will load in some packages that will be useful later on. Typically you include all of your package imports at the top of the file. Here we are installing numpy which is a package that has many useful data structures and commands."
  },
  {
   "cell_type": "code",
   "execution_count": 17,
   "metadata": {},
   "outputs": [
    {
     "name": "stdout",
     "output_type": "stream",
     "text": "Requirement already satisfied: numpy in /usr/local/lib/python3.7/site-packages (1.15.1)\r\n"
    }
   ],
   "source": "!python3 -m pip install numpy\n\nimport numpy as np\nimport math, random"
  },
  {
   "cell_type": "markdown",
   "metadata": {},
   "source": "Next lets cover commenting. Comments are easy in python. Any line with # will comment out all info after the # until the next line."
  },
  {
   "cell_type": "code",
   "execution_count": 18,
   "metadata": {},
   "outputs": [
    {
     "name": "stdout",
     "output_type": "stream",
     "text": "After this, the following bits have been commented out.\n"
    }
   ],
   "source": "#This line has been commented out.\nprint(\"After this, the following bits have been commented out.\") #See you dont get the rest of this text.\n#or this.\n#or even this."
  },
  {
   "cell_type": "markdown",
   "metadata": {},
   "source": "Comments are useful for your own bookkeeping about what functions or variables do within your program.\n\nEach line in python does not require an ending semi-colon. That said, whitespace is fairly important. Each new line is considered to be a new command so you cannot have runon commands. Furthermore, as we will see later with if-then, for, or while commands, the spacing of the following lines of code is important."
  },
  {
   "cell_type": "code",
   "execution_count": 6,
   "metadata": {},
   "outputs": [
    {
     "name": "stdout",
     "output_type": "stream",
     "text": "\u001b[33mDEPRECATION: Python 2.7 will reach the end of its life on January 1st, 2020. Please upgrade your Python as Python 2.7 won't be maintained after that date. A future version of pip will drop support for Python 2.7.\u001b[0m\nRequirement already satisfied: numpy in /Users/corinthummel/miniconda3/lib/python2.7/site-packages (1.16.6)\n"
    }
   ],
   "source": "if true:"
  },
  {
   "cell_type": "markdown",
   "metadata": {},
   "source": "## 1. Printing:\nTo start with lets do the classic \"Hello World\" example. Below is a code block that is written in python and if you select the cell and click \"run\" at the top or press Shift+Enter, it will run the code.\n"
  },
  {
   "cell_type": "code",
   "execution_count": 3,
   "metadata": {},
   "outputs": [
    {
     "name": "stdout",
     "output_type": "stream",
     "text": "Hello World\n"
    }
   ],
   "source": "print(\"Hello World\")"
  },
  {
   "cell_type": "markdown",
   "metadata": {},
   "source": "The print() command will output everything within it to the console. This is an easy way to check the contents of variables or keep track of where you are in your program. Lots of print commands are kinda bad practice but they are useful as an initial debugging technique."
  },
  {
   "cell_type": "code",
   "execution_count": 7,
   "metadata": {},
   "outputs": [
    {
     "name": "stdout",
     "output_type": "stream",
     "text": "3\nThis works?\n('You', 'can', 'have', 'multiple', 'items')\n[1, 2, 3, 4]\n"
    }
   ],
   "source": "print(3)\nprint(\"This works?\")\nprint(\"You\", \"can\", \"have\", \"multiple\", \"items\")\nprint([1,2,3,4])\n\n#Feel free to add your own print commands below.\n\n\n"
  },
  {
   "cell_type": "markdown",
   "metadata": {},
   "source": "## 2. Variables\n\nTypically we wont be handling hard coded values. Instead we will want variables to hold data that we assign values to dynammically. To do this we will use variables.\n\nVariables are pretty easy to handle in python. Since it is a scripting language, there is no type casting until runtime. That means when you name a variable, you dont need to tell the program what type of data it is. The program will try to figure it out itself."
  },
  {
   "cell_type": "code",
   "execution_count": null,
   "metadata": {},
   "outputs": [],
   "source": ""
  }
 ],
 "metadata": {
  "kernelspec": {
   "display_name": "Python 3",
   "language": "python",
   "name": "python3"
  },
  "language_info": {
   "codemirror_mode": {
    "name": "ipython",
    "version": 2
   },
   "file_extension": ".py",
   "mimetype": "text/x-python",
   "name": "python",
   "nbconvert_exporter": "python",
   "pygments_lexer": "ipython2",
   "version": "2.7.15"
  }
 },
 "nbformat": 4,
 "nbformat_minor": 4
}
